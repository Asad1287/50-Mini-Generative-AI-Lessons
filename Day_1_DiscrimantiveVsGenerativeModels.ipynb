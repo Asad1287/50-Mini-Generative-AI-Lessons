{
  "nbformat": 4,
  "nbformat_minor": 0,
  "metadata": {
    "colab": {
      "provenance": [],
      "authorship_tag": "ABX9TyOQBrnZfxtuzvgkT+e2SJQB",
      "include_colab_link": true
    },
    "kernelspec": {
      "name": "python3",
      "display_name": "Python 3"
    },
    "language_info": {
      "name": "python"
    }
  },
  "cells": [
    {
      "cell_type": "markdown",
      "metadata": {
        "id": "view-in-github",
        "colab_type": "text"
      },
      "source": [
        "<a href=\"https://colab.research.google.com/github/Asad1287/50_ML_Projects_50_Days/blob/main/Day_1_DiscrimantiveVsGenerativeModels.ipynb\" target=\"_parent\"><img src=\"https://colab.research.google.com/assets/colab-badge.svg\" alt=\"Open In Colab\"/></a>"
      ]
    },
    {
      "cell_type": "code",
      "execution_count": null,
      "metadata": {
        "id": "2jt5B9wOcAX2"
      },
      "outputs": [],
      "source": []
    },
    {
      "cell_type": "markdown",
      "source": [
        "## Simple Number Generator"
      ],
      "metadata": {
        "id": "gH9YaantcrHB"
      }
    },
    {
      "cell_type": "code",
      "source": [
        "import numpy as np\n",
        "\n",
        "class SimpleNumberGenerator:\n",
        "    def __init__(self, input_size=10, hidden_size=8):\n",
        "        # Initialize weights and biases\n",
        "        self.W1 = np.random.randn(input_size, hidden_size) * 0.01\n",
        "        self.b1 = np.zeros((1, hidden_size))\n",
        "        self.W2 = np.random.randn(hidden_size, 9) * 0.01\n",
        "        self.b2 = np.zeros((1, 9))\n",
        "\n",
        "    def sigmoid(self, x):\n",
        "        return 1 / (1 + np.exp(-np.clip(x, -500, 500)))\n",
        "\n",
        "    def softmax(self, x):\n",
        "        exp_x = np.exp(x - np.max(x, axis=1, keepdims=True))\n",
        "        return exp_x / np.sum(exp_x, axis=1, keepdims=True)\n",
        "\n",
        "    def forward(self, X):\n",
        "        # First layer\n",
        "        self.z1 = np.dot(X, self.W1) + self.b1\n",
        "        self.a1 = self.sigmoid(self.z1)\n",
        "\n",
        "        # Output layer\n",
        "        self.z2 = np.dot(self.a1, self.W2) + self.b2\n",
        "        self.a2 = self.softmax(self.z2)\n",
        "\n",
        "        return self.a2\n",
        "\n",
        "    def generate_number(self, noise):\n",
        "        # Forward pass\n",
        "        probabilities = self.forward(noise)\n",
        "\n",
        "        # Convert to number (1-9)\n",
        "        number = np.argmax(probabilities) + 1\n",
        "\n",
        "        return number\n",
        "\n",
        "# Example usage\n",
        "if __name__ == \"__main__\":\n",
        "    # Create generator\n",
        "    generator = SimpleNumberGenerator()\n",
        "\n",
        "    # Generate some example numbers\n",
        "    for _ in range(5):\n",
        "        # Generate random noise\n",
        "        noise = np.random.randn(1, 10)\n",
        "\n",
        "        # Generate number\n",
        "        number = generator.generate_number(noise)\n",
        "        print(f\"Generated number: {number}\")\n",
        "\n",
        "    # Generate multiple numbers at once\n",
        "    batch_noise = np.random.randn(10, 10)\n",
        "    batch_probs = generator.forward(batch_noise)\n",
        "    batch_numbers = np.argmax(batch_probs, axis=1) + 1\n",
        "    print(\"\\nBatch generation:\")\n",
        "    print(f\"Generated numbers: {batch_numbers}\")"
      ],
      "metadata": {
        "colab": {
          "base_uri": "https://localhost:8080/"
        },
        "id": "ug1UFUDScwj4",
        "outputId": "f185c2c3-cba8-49fe-afea-08a5f6200042"
      },
      "execution_count": 2,
      "outputs": [
        {
          "output_type": "stream",
          "name": "stdout",
          "text": [
            "Generated number: 7\n",
            "Generated number: 7\n",
            "Generated number: 7\n",
            "Generated number: 7\n",
            "Generated number: 7\n",
            "\n",
            "Batch generation:\n",
            "Generated numbers: [7 7 7 7 7 7 7 7 7 7]\n"
          ]
        }
      ]
    },
    {
      "cell_type": "code",
      "source": [
        "import numpy as np\n",
        "import matplotlib.pyplot as plt\n",
        "\n",
        "def generate_random_numbers(size=1000, distribution='uniform', **kwargs):\n",
        "    \"\"\"\n",
        "    Generate random numbers using different distributions\n",
        "\n",
        "    Parameters:\n",
        "    size (int): Number of random numbers to generate\n",
        "    distribution (str): Type of distribution ('uniform', 'normal', 'poisson')\n",
        "    **kwargs: Additional parameters for specific distributions\n",
        "    \"\"\"\n",
        "    if distribution == 'uniform':\n",
        "        low = kwargs.get('low', 0)\n",
        "        high = kwargs.get('high', 1)\n",
        "        numbers = np.random.uniform(low=low, high=high, size=size)\n",
        "    elif distribution == 'normal':\n",
        "        mean = kwargs.get('mean', 0)\n",
        "        std = kwargs.get('std', 1)\n",
        "        numbers = np.random.normal(loc=mean, scale=std, size=size)\n",
        "    elif distribution == 'poisson':\n",
        "        lam = kwargs.get('lambda', 5)\n",
        "        numbers = np.random.poisson(lam=lam, size=size)\n",
        "    else:\n",
        "        raise ValueError(\"Unsupported distribution type\")\n",
        "\n",
        "    return numbers\n",
        "\n",
        "def plot_distribution(numbers, title=\"Random Number Distribution\"):\n",
        "    \"\"\"\n",
        "    Plot the distribution of random numbers\n",
        "\n",
        "    Parameters:\n",
        "    numbers (array): Array of random numbers\n",
        "    title (str): Title for the plot\n",
        "    \"\"\"\n",
        "    plt.figure(figsize=(10, 6))\n",
        "    plt.hist(numbers, bins=30, density=True, alpha=0.7, color='blue')\n",
        "    plt.title(title)\n",
        "    plt.xlabel(\"Value\")\n",
        "    plt.ylabel(\"Frequency\")\n",
        "    plt.grid(True, alpha=0.3)\n",
        "    plt.show()\n",
        "\n",
        "# Example usage\n",
        "if __name__ == \"__main__\":\n",
        "    # Generate uniform random numbers\n",
        "    uniform_nums = generate_random_numbers(size=1000, distribution='uniform', low=0, high=10)\n",
        "    plot_distribution(uniform_nums, \"Uniform Distribution (0-10)\")\n",
        "\n",
        "    # Generate normal random numbers\n",
        "    normal_nums = generate_random_numbers(size=1000, distribution='normal', mean=5, std=2)\n",
        "    plot_distribution(normal_nums, \"Normal Distribution (mean=5, std=2)\")\n",
        "\n"
      ],
      "metadata": {
        "colab": {
          "base_uri": "https://localhost:8080/",
          "height": 1000
        },
        "id": "KHV6YarAgl2Q",
        "outputId": "84229b42-3a69-40c2-9d05-1f4e3a588d40"
      },
      "execution_count": 5,
      "outputs": [
        {
          "output_type": "display_data",
          "data": {
            "text/plain": [
              "<Figure size 1000x600 with 1 Axes>"
            ],
            "image/png": "[encoded data removed]"
          },
          "metadata": {}
        },
        {
          "output_type": "display_data",
          "data": {
            "text/plain": [
              "<Figure size 1000x600 with 1 Axes>"
            ],
            "image/png": "[encoded data removed]"
          },
          "metadata": {}
        }
      ]
    },
    {
      "cell_type": "markdown",
      "source": [
        "##Plain Python Classifier"
      ],
      "metadata": {
        "id": "T8PnwLzZd_tI"
      }
    },
    {
      "cell_type": "code",
      "source": [
        "import numpy as np\n",
        "\n",
        "# Generate sample data\n",
        "np.random.seed(42)\n",
        "X = np.linspace(0, 10, 100)  # Input values\n",
        "true_W = 2.5  # True weight\n",
        "true_beta = 1.0  # True bias\n",
        "y = true_W * X + true_beta + np.random.normal(0, 1, 100)  # Add some noise\n",
        "\n",
        "# Reshape X for matrix operations\n",
        "X = X.reshape(-1, 1)\n",
        "\n",
        "class LinearRegressionGD:\n",
        "    def __init__(self, learning_rate=0.001):\n",
        "        self.learning_rate = learning_rate\n",
        "        self.W = np.random.randn()  # Initialize random weight\n",
        "        self.beta = np.random.randn()  # Initialize random bias\n",
        "        self.history = []\n",
        "\n",
        "    def predict(self, X):\n",
        "        \"\"\"Make predictions using current W and beta\"\"\"\n",
        "        return self.W * X + self.beta\n",
        "\n",
        "    def compute_gradients(self, X, y):\n",
        "        \"\"\"Compute gradients for W and beta\"\"\"\n",
        "        m = len(y)\n",
        "        y_pred = self.predict(X)\n",
        "        error = y_pred - y\n",
        "\n",
        "        # Gradient for W\n",
        "        dW = (1/m) * np.sum(error * X)\n",
        "        # Gradient for beta\n",
        "        dbeta = (1/m) * np.sum(error)\n",
        "\n",
        "        return dW, dbeta\n",
        "\n",
        "    def compute_loss(self, X, y):\n",
        "        \"\"\"Compute Mean Squared Error loss\"\"\"\n",
        "        m = len(y)\n",
        "        y_pred = self.predict(X)\n",
        "        return (1/(2*m)) * np.sum((y_pred - y)**2)\n",
        "\n",
        "    def train(self, X, y, n_iterations=1000):\n",
        "        \"\"\"Train the model using gradient descent\"\"\"\n",
        "        for i in range(n_iterations):\n",
        "            # Compute gradients\n",
        "            dW, dbeta = self.compute_gradients(X, y)\n",
        "\n",
        "            # Update parameters\n",
        "            self.W -= self.learning_rate * dW\n",
        "            self.beta -= self.learning_rate * dbeta\n",
        "\n",
        "            # Compute loss\n",
        "            loss = self.compute_loss(X, y)\n",
        "            self.history.append((self.W, self.beta, loss))\n",
        "\n",
        "            # Print progress every 100 iterations\n",
        "            if (i + 1) % 100 == 0:\n",
        "                print(f\"Iteration {i+1}: W = {self.W:.4f}, beta = {self.beta:.4f}, Loss = {loss:.4f}\")\n",
        "\n",
        "# Create and train model\n",
        "model = LinearRegressionGD(learning_rate=0.001)\n",
        "print(\"Initial parameters:\")\n",
        "print(f\"W = {model.W:.4f}, beta = {model.beta:.4f}\")\n",
        "print(f\"True parameters: W = {true_W}, beta = {true_beta}\")\n",
        "\n",
        "# Train the model\n",
        "print(\"\\nTraining...\")\n",
        "model.train(X, y)\n",
        "\n",
        "# Print final results\n",
        "print(\"\\nFinal parameters:\")\n",
        "print(f\"W = {model.W:.4f}, beta = {model.beta:.4f}\")\n",
        "print(f\"True parameters: W = {true_W}, beta = {true_beta}\")\n",
        "\n",
        "# Calculate R-squared score\n",
        "y_pred = model.predict(X)\n",
        "ss_tot = np.sum((y - np.mean(y))**2)\n",
        "ss_res = np.sum((y - y_pred)**2)\n",
        "r2 = 1 - (ss_res / ss_tot)\n",
        "print(f\"\\nR-squared score: {r2:.4f}\")\n",
        "\n",
        "# Print loss progression\n",
        "print(\"\\nLoss progression:\")\n",
        "for i, (_, _, loss) in enumerate(model.history):\n",
        "    if i % 200 == 0:\n",
        "        print(f\"Iteration {i}: Loss = {loss:.4f}\")"
      ],
      "metadata": {
        "colab": {
          "base_uri": "https://localhost:8080/"
        },
        "id": "G3_7Q78yeDVy",
        "outputId": "3bdd2433-0068-47dc-8c08-3e61c63a283a"
      },
      "execution_count": 3,
      "outputs": [
        {
          "output_type": "stream",
          "name": "stdout",
          "text": [
            "Initial parameters:\n",
            "W = -1.4154, beta = -0.4206\n",
            "True parameters: W = 2.5, beta = 1.0\n",
            "\n",
            "Training...\n",
            "Iteration 100: W = -1025384873314200137058741816483569991680.0000, beta = -154177057128199101912552688264811642880.0000, Loss = 1841441124072661264593386633500937823060681705386708973667296238878671503443886080.0000\n",
            "Iteration 200: W = -307822960592200469736608768581575675827398541775825198647874279892594529927168.0000, beta = -46284316665604381181818041793812649817262504751688550496042722232002687270912.0000, Loss = 165953358837435981205325944122043229682151695434002803493586413595674398239358375022557847058993466842242226863688688316905193475256231462406671760827005009920.0000\n",
            "Iteration 300: W = -92409179746805483727681241604804149649274073128308883706724995442210341973488591683318419068723447870225052057206784.0000, beta = -13894661171413193450482256994674597233080873167178705848839876498228855166940761425111113764320780957846688734642176.0000, Loss = 14955958650752931925972178129259749459774747127440677467646211352057444850253131330709935262176076097081643334970194885394879273782664143847262171850752327023685421661528744135033937845619300223991137199050838901123405271093837331169280.0000\n",
            "Iteration 400: W = -27741454000211441154247175907067542141553286454550557275805632686942882195935925856546404684721400100787507904102996250104110914238699153677517564353183744.0000, beta = -4171210098297707959188846338041830276864357060419867661719737774342157615886151146614304036283659787722556679303675419741413219931534306361462992941350912.0000, Loss = inf\n",
            "Iteration 500: W = -8328050007093074790056611252328242759347874381026755178287615650177337008842313579439413310344779053858128141733899522991664740837390274506462177675810575632651846875018267870182153506462367744.0000, beta = -1252207122541239808915507768008213391673224938502960497724038907487272143193570187605705916113297337524099401832399310110163182419097703232033024433685174237939298437718662198427006064121610240.0000, Loss = inf\n",
            "Iteration 600: W = -2500100280256191668923326024668684640000277901072710229062228562582927650056379443111815164056513681313885271138955775890154716092480042976398425669497382232283115608172078235946338168264395677610688748515086743740960200314224377856.0000, beta = -375915535490031382827242735516204085995089583895566440976636130098642139246392885606189249526091897185027112781892811610603247918204984528209552627995653185889985396027143553708045650571448881678557647715132176374971535293266526208.0000, Loss = inf\n",
            "Iteration 700: W = -750536008551038032255023601100247253542869316892900977031965273514880801011490899224500327160550709419050314746798513761213053422842757671569167220802086557182408335282160752297660906143273210663742475298968259954239048376927023281372968046935525469325986043117065732096.0000, beta = -112850731543497426007584597007131112469575497617550169987401256234953083341854629240232546474664983932791862657012455597233097225192454297014905888179196179537237431525208910391956831759791028118712526674639052869454924581516094854998800853012881105841626889705335291904.0000, Loss = inf\n",
            "Iteration 800: W = nan, beta = nan, Loss = nan\n",
            "Iteration 900: W = nan, beta = nan, Loss = nan\n",
            "Iteration 1000: W = nan, beta = nan, Loss = nan\n",
            "\n",
            "Final parameters:\n",
            "W = nan, beta = nan\n",
            "True parameters: W = 2.5, beta = 1.0\n",
            "\n",
            "R-squared score: nan\n",
            "\n",
            "Loss progression:\n",
            "Iteration 0: Loss = 125055.3795\n",
            "Iteration 200: Loss = 976189942501395403051006164131505134992810492197168821398287549297448861998479401267428816714371310311791477467621446754395428603697132723167466145044041302016.0000\n",
            "Iteration 400: Loss = inf\n",
            "Iteration 600: Loss = inf\n",
            "Iteration 800: Loss = nan\n"
          ]
        },
        {
          "output_type": "stream",
          "name": "stderr",
          "text": [
            "/usr/local/lib/python3.11/dist-packages/numpy/core/fromnumeric.py:88: RuntimeWarning: overflow encountered in reduce\n",
            "  return ufunc.reduce(obj, axis, dtype, out, **passkwargs)\n",
            "<ipython-input-3-87aa8ecf38c9>:41: RuntimeWarning: overflow encountered in square\n",
            "  return (1/(2*m)) * np.sum((y_pred - y)**2)\n",
            "<ipython-input-3-87aa8ecf38c9>:22: RuntimeWarning: invalid value encountered in multiply\n",
            "  return self.W * X + self.beta\n"
          ]
        }
      ]
    },
    {
      "cell_type": "code",
      "source": [],
      "metadata": {
        "id": "G29QmlPcgkya"
      },
      "execution_count": null,
      "outputs": []
    }
  ]
}
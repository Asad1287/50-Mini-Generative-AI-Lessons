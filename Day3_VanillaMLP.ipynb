{
  "nbformat": 4,
  "nbformat_minor": 0,
  "metadata": {
    "colab": {
      "provenance": [],
      "authorship_tag": "ABX9TyOAQlWKYWHZWoQNTyG7vKuJ",
      "include_colab_link": true
    },
    "kernelspec": {
      "name": "python3",
      "display_name": "Python 3"
    },
    "language_info": {
      "name": "python"
    }
  },
  "cells": [
    {
      "cell_type": "markdown",
      "metadata": {
        "id": "view-in-github",
        "colab_type": "text"
      },
      "source": [
        "<a href=\"https://colab.research.google.com/github/Asad1287/50_ML_Projects_50_Days/blob/main/Day3_VanillaMLP.ipynb\" target=\"_parent\"><img src=\"https://colab.research.google.com/assets/colab-badge.svg\" alt=\"Open In Colab\"/></a>"
      ]
    },
    {
      "cell_type": "code",
      "execution_count": null,
      "metadata": {
        "id": "qmGW4qx1zNnc"
      },
      "outputs": [],
      "source": []
    },
    {
      "cell_type": "code",
      "source": [
        "from IPython.display import display, Math, Markdown\n",
        "\n",
        "display(Markdown(r\"\"\"\n",
        "# Linear Regression with JAX\n",
        "\n",
        "This lesson demonstrates solving a simple **linear regression** problem using **JAX**, a high-performance numerical computing library.\n",
        "\n",
        "### Key Concepts\n",
        "\n",
        "#### 1. Linear Regression Model\n",
        "The goal is to predict an output (\\(y\\)) as a linear function of the input (\\(x\\)):\n",
        "\n",
        "\\[\n",
        "y = w \\cdot x + b\n",
        "\\]\n",
        "\n",
        "Where:\n",
        "- \\(w\\) is the weight (slope of the line).\n",
        "- \\(b\\) is the bias (y-intercept).\n",
        "\n",
        "---\n",
        "\n",
        "#### 2. Parameter Initialization\n",
        "The parameters \\(w\\) and \\(b\\) are initialized randomly using JAX’s `random.normal()` function.\n",
        "\n",
        "---\n",
        "\n",
        "#### 3. Forward Pass (Prediction)\n",
        "The forward pass computes predictions as:\n",
        "\n",
        "\\[\n",
        "y_{\\text{pred}} = w \\cdot x + b\n",
        "\\]\n",
        "\n",
        "---\n",
        "\n",
        "#### 4. Loss Function\n",
        "The loss function measures how well the model’s predictions match the actual values (\\(y\\)) using **Mean Squared Error (MSE)**:\n",
        "\n",
        "\\[\n",
        "\\text{MSE} = \\frac{1}{N} \\sum (y_{\\text{pred}} - y)^2\n",
        "\\]\n",
        "\n",
        "---\n",
        "\n",
        "#### 5. Backward Pass (Gradient Computation) and Parameter Update\n",
        "Using **automatic differentiation** (`jax.grad`), the gradients of the loss function with respect to \\(w\\) and \\(b\\) are computed. Parameters are updated using **gradient descent**:\n",
        "\n",
        "\\[\n",
        "w = w - \\eta \\cdot \\frac{\\partial \\text{Loss}}{\\partial w}, \\quad\n",
        "b = b - \\eta \\cdot \\frac{\\partial \\text{Loss}}{\\partial b}\n",
        "\\]\n",
        "\n",
        "Here, \\(\\eta\\) is the learning rate.\n",
        "\n",
        "---\n",
        "\n",
        "#### 6. Training\n",
        "The model iteratively updates \\(w\\) and \\(b\\) over multiple epochs to minimize the loss.\n",
        "\n",
        "---\n",
        "\n",
        "#### 7. Visualization\n",
        "The `plot_actual_vs_predicted` function generates a scatter plot of actual vs. predicted values, along with a dashed line (\\(y = x\\)) representing the ideal fit.\n",
        "\n",
        "This plot visually shows how well the model fits the data.\n",
        "\"\"\"))\n"
      ],
      "metadata": {
        "colab": {
          "base_uri": "https://localhost:8080/",
          "height": 827
        },
        "id": "ow9pLrwx4Gbf",
        "outputId": "b51dae84-a8ff-4b30-8210-79cd437e9cc0"
      },
      "execution_count": 15,
      "outputs": [
        {
          "output_type": "display_data",
          "data": {
            "text/plain": [
              "<IPython.core.display.Markdown object>"
            ],
            "text/markdown": "\n# Linear Regression with JAX\n\nThis lesson demonstrates solving a simple **linear regression** problem using **JAX**, a high-performance numerical computing library.\n\n### Key Concepts\n\n#### 1. Linear Regression Model\nThe goal is to predict an output (\\(y\\)) as a linear function of the input (\\(x\\)):\n\n\\[\ny = w \\cdot x + b\n\\]\n\nWhere:\n- \\(w\\) is the weight (slope of the line).\n- \\(b\\) is the bias (y-intercept).\n\n---\n\n#### 2. Parameter Initialization\nThe parameters \\(w\\) and \\(b\\) are initialized randomly using JAX’s `random.normal()` function.\n\n---\n\n#### 3. Forward Pass (Prediction)\nThe forward pass computes predictions as:\n\n\\[\ny_{\\text{pred}} = w \\cdot x + b\n\\]\n\n---\n\n#### 4. Loss Function\nThe loss function measures how well the model’s predictions match the actual values (\\(y\\)) using **Mean Squared Error (MSE)**:\n\n\\[\n\\text{MSE} = \\frac{1}{N} \\sum (y_{\\text{pred}} - y)^2\n\\]\n\n---\n\n#### 5. Backward Pass (Gradient Computation) and Parameter Update\nUsing **automatic differentiation** (`jax.grad`), the gradients of the loss function with respect to \\(w\\) and \\(b\\) are computed. Parameters are updated using **gradient descent**:\n\n\\[\nw = w - \\eta \\cdot \\frac{\\partial \\text{Loss}}{\\partial w}, \\quad\nb = b - \\eta \\cdot \\frac{\\partial \\text{Loss}}{\\partial b}\n\\]\n\nHere, \\(\\eta\\) is the learning rate.\n\n---\n\n#### 6. Training\nThe model iteratively updates \\(w\\) and \\(b\\) over multiple epochs to minimize the loss.\n\n---\n\n#### 7. Visualization\nThe `plot_actual_vs_predicted` function generates a scatter plot of actual vs. predicted values, along with a dashed line (\\(y = x\\)) representing the ideal fit.\n\nThis plot visually shows how well the model fits the data.\n"
          },
          "metadata": {}
        }
      ]
    },
    {
      "cell_type": "code",
      "source": [
        "import jax\n",
        "import jax.numpy as jnp\n",
        "from jax import grad, jit, random, vmap\n",
        "import numpy as np\n",
        "import matplotlib.pyplot as plt\n",
        "from typing import Sequence, Tuple, Dict\n",
        "from functools import partial\n",
        "class MLP:\n",
        "    def __init__(self, layer_sizes: Sequence[int], key: jax.random.PRNGKey):\n",
        "        \"\"\"Initialize MLP parameters\"\"\"\n",
        "        self.layer_sizes = layer_sizes\n",
        "        self.params = self.init_network_params(layer_sizes, key)\n",
        "\n",
        "    def init_network_params(self, sizes: Sequence[int], key: jax.random.PRNGKey) -> list:\n",
        "        \"\"\"Initialize all layers using Xavier initialization\"\"\"\n",
        "        keys = random.split(key, len(sizes))\n",
        "        return [self.init_layer_params(m, n, k)\n",
        "                for m, n, k in zip(sizes[:-1], sizes[1:], keys)]\n",
        "\n",
        "    def init_layer_params(self, m: int, n: int, key: jax.random.PRNGKey) -> tuple:\n",
        "        \"\"\"Initialize single layer using Xavier initialization\"\"\"\n",
        "        w_key, b_key = random.split(key)\n",
        "        # Xavier initialization\n",
        "        w = random.normal(w_key, (n, m)) / jnp.sqrt(m)\n",
        "        b = random.normal(b_key, (n,))\n",
        "        return (w, b)\n",
        "\n",
        "    @staticmethod\n",
        "    def relu(x):\n",
        "        \"\"\"ReLU activation function\"\"\"\n",
        "        return jnp.maximum(0, x)\n",
        "\n",
        "    def predict(self, params: list, x: jnp.ndarray) -> jnp.ndarray:\n",
        "        \"\"\"Forward pass through the network\"\"\"\n",
        "        activations = x\n",
        "        for w, b in params[:-1]:\n",
        "            # Reshape b to (64, 1) to allow broadcasting\n",
        "            activations = self.relu(jnp.dot(w, activations) + b[:, None])\n",
        "\n",
        "        # Final layer with no activation\n",
        "        final_w, final_b = params[-1]\n",
        "        return jnp.dot(final_w, activations) + final_b\n",
        "\n",
        "    def loss(self, params: list, x: jnp.ndarray, y: jnp.ndarray) -> float:\n",
        "        \"\"\"Compute MSE loss\"\"\"\n",
        "        preds = self.predict(params, x)\n",
        "        return jnp.mean((preds - y) ** 2)\n",
        "\n",
        "    @partial(jit, static_argnums=(0,))\n",
        "    def update(self, params: list, x: jnp.ndarray, y: jnp.ndarray,\n",
        "               learning_rate: float) -> tuple:\n",
        "        \"\"\"Compute gradients and update parameters\"\"\"\n",
        "        grads = grad(self.loss)(params, x, y)\n",
        "        return [(w - learning_rate * dw, b - learning_rate * db)\n",
        "                for (w, b), (dw, db) in zip(params, grads)]\n",
        "\n",
        "def generate_data(n_samples: int = 1000) -> Tuple[np.ndarray, np.ndarray]:\n",
        "    \"\"\"Generate synthetic data for testing\"\"\"\n",
        "    np.random.seed(42)\n",
        "    X = np.random.randn(n_samples, 2)\n",
        "    y = np.sum(X**2, axis=1)  # Simple quadratic function\n",
        "    return X.T, y  # Transpose X to match JAX convention\n",
        "\n",
        "def train(mlp: MLP, X: jnp.ndarray, y: jnp.ndarray,\n",
        "          n_epochs: int = 1000, batch_size: int = 32,\n",
        "          learning_rate: float = 0.01) -> Dict[str, list]:\n",
        "    \"\"\"Train the MLP\"\"\"\n",
        "    n_samples = X.shape[1]\n",
        "    history = {'loss': []}\n",
        "\n",
        "    for epoch in range(n_epochs):\n",
        "        # Create batch indices\n",
        "        perm = jax.random.permutation(random.PRNGKey(epoch), n_samples)\n",
        "        batches = jnp.array_split(perm, n_samples // batch_size)\n",
        "\n",
        "        # Train on batches\n",
        "        epoch_loss = 0.0\n",
        "        for batch_idx in batches:\n",
        "            X_batch = X[:, batch_idx]\n",
        "            y_batch = y[batch_idx]\n",
        "\n",
        "            # Update parameters\n",
        "            mlp.params = mlp.update(mlp.params, X_batch, y_batch, learning_rate)\n",
        "\n",
        "            # Compute batch loss\n",
        "            batch_loss = mlp.loss(mlp.params, X_batch, y_batch)\n",
        "            epoch_loss += batch_loss\n",
        "\n",
        "        avg_epoch_loss = epoch_loss / len(batches)\n",
        "        history['loss'].append(avg_epoch_loss)\n",
        "\n",
        "        if epoch % 100 == 0:\n",
        "            print(f\"Epoch {epoch}, Loss: {avg_epoch_loss:.4f}\")\n",
        "\n",
        "    return history\n",
        "\n",
        "def plot_results(history: Dict[str, list], X: jnp.ndarray, y: jnp.ndarray,\n",
        "                mlp: MLP) -> None:\n",
        "    \"\"\"Plot training history and predictions\"\"\"\n",
        "    plt.figure(figsize=(12, 4))\n",
        "\n",
        "    # Plot loss history\n",
        "    plt.subplot(1, 2, 1)\n",
        "    plt.plot(history['loss'])\n",
        "    plt.title('Training Loss')\n",
        "    plt.xlabel('Epoch')\n",
        "    plt.ylabel('MSE Loss')\n",
        "\n",
        "    # Plot predictions vs actual\n",
        "    plt.subplot(1, 2, 2)\n",
        "    predictions = vmap(lambda x: mlp.predict(mlp.params, x))(X.T)\n",
        "    # Reshape predictions to match the shape of y\n",
        "    predictions = predictions.reshape(y.shape) # Reshape predictions to have the same shape as y\n",
        "    plt.scatter(y, predictions, alpha=0.5)\n",
        "    plt.plot([y.min(), y.max()], [y.min(), y.max()], 'r--')\n",
        "    plt.title('Predictions vs Actual')\n",
        "    plt.xlabel('Actual Values')\n",
        "    plt.ylabel('Predicted Values')\n",
        "\n",
        "    plt.tight_layout()\n",
        "    plt.show()\n",
        "\n",
        "def main():\n",
        "    # Generate synthetic data\n",
        "    X, y = generate_data(1000)\n",
        "\n",
        "    # Initialize MLP\n",
        "    layer_sizes = [2, 64, 32, 1]  # Input dim: 2, Hidden: [64, 32], Output dim: 1\n",
        "    mlp = MLP(layer_sizes, random.PRNGKey(0))\n",
        "\n",
        "    # Train model\n",
        "    history = train(mlp, X, y, n_epochs=1000, learning_rate=0.01)\n",
        "\n",
        "\n",
        "\n",
        "    # Test predictions\n",
        "    test_X = jnp.array([[1.0, 1.0]])  # Example test point\n",
        "    pred = mlp.predict(mlp.params, test_X.T)\n",
        "    actual = jnp.sum(test_X**2)\n",
        "    print(f\"\\nTest prediction for point {test_X}:\")\n",
        "    # Convert JAX arrays to Python scalars before formatting\n",
        "    print(f\"Predicted: {pred[0].item():.4f}, Actual: {actual.item():.4f}\")\n",
        "\n",
        "\n",
        "if __name__ == \"__main__\":\n",
        "\n",
        "    main()"
      ],
      "metadata": {
        "colab": {
          "base_uri": "https://localhost:8080/"
        },
        "id": "wpdCNAPZzvXR",
        "outputId": "f8a0f79d-ad23-4f3c-d321-f34b9545c621"
      },
      "execution_count": 6,
      "outputs": [
        {
          "output_type": "stream",
          "name": "stdout",
          "text": [
            "Epoch 0, Loss: 1.8989\n",
            "Epoch 100, Loss: 0.0048\n",
            "Epoch 200, Loss: 0.0028\n",
            "Epoch 300, Loss: 0.0014\n",
            "Epoch 400, Loss: 0.0016\n",
            "Epoch 500, Loss: 0.0010\n",
            "Epoch 600, Loss: 0.0010\n",
            "Epoch 700, Loss: 0.0009\n",
            "Epoch 800, Loss: 0.0007\n",
            "Epoch 900, Loss: 0.0006\n",
            "\n",
            "Test prediction for point [[1. 1.]]:\n",
            "Predicted: 2.0307, Actual: 2.0000\n"
          ]
        }
      ]
    },
    {
      "cell_type": "code",
      "source": [],
      "metadata": {
        "id": "8MjX5Ibr3qUF"
      },
      "execution_count": null,
      "outputs": []
    },
    {
      "cell_type": "markdown",
      "source": [],
      "metadata": {
        "id": "5UZ6-LNx0U4F"
      }
    },
    {
      "cell_type": "code",
      "source": [
        "def init_layer_params( m: int, n: int, key: jax.random.PRNGKey) -> tuple:\n",
        "        \"\"\"Initialize single layer using Xavier initialization\"\"\"\n",
        "        w_key, b_key = random.split(key)\n",
        "        # Xavier initialization\n",
        "        w = random.normal(w_key, (n, m)) / jnp.sqrt(m)\n",
        "        b = random.normal(b_key, (n,))\n",
        "        return (w, b)\n",
        "\n",
        "m = 3\n",
        "n = 3\n",
        "\n",
        "print(init_layer_params(m, n, random.PRNGKey(0)))"
      ],
      "metadata": {
        "colab": {
          "base_uri": "https://localhost:8080/"
        },
        "id": "ivuDjWXu0VAE",
        "outputId": "068076e4-a63a-4e01-c261-b57e9636cae5"
      },
      "execution_count": 11,
      "outputs": [
        {
          "output_type": "stream",
          "name": "stdout",
          "text": [
            "(Array([[-1.5072066 ,  0.01954494,  0.6271948 ],\n",
            "       [-0.8546509 ,  0.8893069 ,  0.6134439 ],\n",
            "       [ 0.31277856,  0.00982812,  0.1571943 ]], dtype=float32), Array([ 1.1378784 , -1.2209548 , -0.59153634], dtype=float32))\n"
          ]
        }
      ]
    },
    {
      "cell_type": "code",
      "source": [
        "def relu(x):\n",
        "        \"\"\"ReLU activation function\"\"\"\n",
        "        return jnp.maximum(0, x)\n",
        "\n",
        "relu(jnp.array([-1, 1,2,3]))"
      ],
      "metadata": {
        "colab": {
          "base_uri": "https://localhost:8080/"
        },
        "id": "6gKHdvDR2jsm",
        "outputId": "0f981d0c-588d-4467-e99d-d0d62ec1a836"
      },
      "execution_count": 13,
      "outputs": [
        {
          "output_type": "execute_result",
          "data": {
            "text/plain": [
              "Array([0, 1, 2, 3], dtype=int32)"
            ]
          },
          "metadata": {},
          "execution_count": 13
        }
      ]
    },
    {
      "cell_type": "code",
      "source": [
        "import jax\n",
        "import jax.numpy as jnp\n",
        "from jax import grad, jit, random\n",
        "import matplotlib.pyplot as plt\n",
        "from typing import Tuple\n",
        "\n",
        "# Initialize parameters (weights and bias)\n",
        "def init_params(key: jax.random.PRNGKey) -> Tuple[jnp.ndarray, jnp.ndarray]:\n",
        "    w_key, b_key = random.split(key)\n",
        "    w = random.normal(w_key, (1,))  # Weight (1-D array for linear regression)\n",
        "    b = random.normal(b_key, (1,))  # Bias (1-D scalar)\n",
        "    return w, b\n",
        "\n",
        "# Forward pass (prediction function)\n",
        "def predict(params: Tuple[jnp.ndarray, jnp.ndarray], x: jnp.ndarray) -> jnp.ndarray:\n",
        "    w, b = params\n",
        "    return w * x + b\n",
        "\n",
        "# Loss function (MSE)\n",
        "def loss(params: Tuple[jnp.ndarray, jnp.ndarray], x: jnp.ndarray, y: jnp.ndarray) -> float:\n",
        "    preds = predict(params, x)\n",
        "    return jnp.mean((preds - y) ** 2)\n",
        "\n",
        "# Backward pass and parameter update\n",
        "@jit\n",
        "def update(params: Tuple[jnp.ndarray, jnp.ndarray], x: jnp.ndarray, y: jnp.ndarray, learning_rate: float) -> Tuple[jnp.ndarray, jnp.ndarray]:\n",
        "    grads = grad(loss)(params, x, y)\n",
        "    w, b = params\n",
        "    dw, db = grads\n",
        "    w -= learning_rate * dw\n",
        "    b -= learning_rate * db\n",
        "    return w, b\n",
        "\n",
        "# Training function\n",
        "def train(x: jnp.ndarray, y: jnp.ndarray, n_epochs: int, learning_rate: float) -> Tuple[jnp.ndarray, jnp.ndarray]:\n",
        "    key = random.PRNGKey(0)\n",
        "    params = init_params(key)\n",
        "\n",
        "    for epoch in range(n_epochs):\n",
        "        params = update(params, x, y, learning_rate)\n",
        "        if epoch % 100 == 0:\n",
        "            current_loss = loss(params, x, y)\n",
        "            print(f\"Epoch {epoch}, Loss: {current_loss:.4f}\")\n",
        "\n",
        "    return params\n",
        "\n",
        "# Plot actual vs predicted\n",
        "def plot_actual_vs_predicted(x: jnp.ndarray, y: jnp.ndarray, params: Tuple[jnp.ndarray, jnp.ndarray]) -> None:\n",
        "    \"\"\"\n",
        "    Plot the actual vs predicted values.\n",
        "    \"\"\"\n",
        "    y_pred = predict(params, x)\n",
        "    plt.figure(figsize=(8, 6))\n",
        "    plt.scatter(y, y_pred, alpha=0.7, label=\"Predicted vs Actual\")\n",
        "    plt.plot([y.min(), y.max()], [y.min(), y.max()], 'r--', label=\"Ideal Fit\")\n",
        "    plt.title(\"Actual vs Predicted\")\n",
        "    plt.xlabel(\"Actual Values\")\n",
        "    plt.ylabel(\"Predicted Values\")\n",
        "    plt.legend()\n",
        "    plt.grid()\n",
        "    plt.show()\n",
        "\n",
        "# Main execution\n",
        "def main():\n",
        "    # Generate synthetic data\n",
        "    key = random.PRNGKey(42)\n",
        "    x = jnp.linspace(-1, 1, 100)  # Features\n",
        "    true_w, true_b = 2.0, -1.0  # Ground truth parameters\n",
        "    y = true_w * x + true_b + 0.1 * random.normal(key, x.shape)  # Add noise\n",
        "\n",
        "    # Train the model\n",
        "    learning_rate = 0.1\n",
        "    n_epochs = 1000\n",
        "    params = train(x, y, n_epochs, learning_rate)\n",
        "\n",
        "    # Print final parameters\n",
        "    w, b = params\n",
        "    print(f\"\\nTrained Parameters: w = {w[0]:.4f}, b = {b[0]:.4f}\")\n",
        "\n",
        "    # Plot actual vs predicted\n",
        "    plot_actual_vs_predicted(x, y, params)\n",
        "\n",
        "if __name__ == \"__main__\":\n",
        "    main()\n"
      ],
      "metadata": {
        "colab": {
          "base_uri": "https://localhost:8080/",
          "height": 782
        },
        "id": "T9jOv-YN3rQ6",
        "outputId": "143eb382-37df-4f83-ab38-264506afb72c"
      },
      "execution_count": 14,
      "outputs": [
        {
          "output_type": "stream",
          "name": "stdout",
          "text": [
            "Epoch 0, Loss: 1.0798\n",
            "Epoch 100, Loss: 0.0104\n",
            "Epoch 200, Loss: 0.0104\n",
            "Epoch 300, Loss: 0.0104\n",
            "Epoch 400, Loss: 0.0104\n",
            "Epoch 500, Loss: 0.0104\n",
            "Epoch 600, Loss: 0.0104\n",
            "Epoch 700, Loss: 0.0104\n",
            "Epoch 800, Loss: 0.0104\n",
            "Epoch 900, Loss: 0.0104\n",
            "\n",
            "Trained Parameters: w = 2.0100, b = -0.9990\n"
          ]
        },
        {
          "output_type": "display_data",
          "data": {
            "text/plain": [
              "<Figure size 800x600 with 1 Axes>"
            ],
            "image/png": "[encoded data removed]"
          },
          "metadata": {}
        }
      ]
    }
  ]
}